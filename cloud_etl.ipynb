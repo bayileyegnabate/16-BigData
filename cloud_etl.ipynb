{
  "nbformat": 4,
  "nbformat_minor": 0,
  "metadata": {
    "colab": {
      "name": "cloud_etl.ipynb",
      "provenance": [],
      "collapsed_sections": [],
      "authorship_tag": "ABX9TyOifkDXNvwiWd8M2TcxOUwm",
      "include_colab_link": true
    },
    "kernelspec": {
      "name": "python3",
      "display_name": "Python 3"
    },
    "language_info": {
      "name": "python"
    }
  },
  "cells": [
    {
      "cell_type": "markdown",
      "metadata": {
        "id": "view-in-github",
        "colab_type": "text"
      },
      "source": [
        "<a href=\"https://colab.research.google.com/github/bayileyegnabate/16-BigData/blob/main/cloud_etl.ipynb\" target=\"_parent\"><img src=\"https://colab.research.google.com/assets/colab-badge.svg\" alt=\"Open In Colab\"/></a>"
      ]
    },
    {
      "cell_type": "code",
      "execution_count": 1,
      "metadata": {
        "colab": {
          "base_uri": "https://localhost:8080/"
        },
        "id": "vulkkNmSm9dQ",
        "outputId": "57610c44-5642-425c-f5f6-85a3da0e6468"
      },
      "outputs": [
        {
          "output_type": "stream",
          "name": "stdout",
          "text": [
            "\r0% [Working]\r            \rGet:1 http://security.ubuntu.com/ubuntu bionic-security InRelease [88.7 kB]\n",
            "\r0% [Waiting for headers] [1 InRelease 14.2 kB/88.7 kB 16%] [Connected to cloud.\r                                                                               \rHit:2 http://archive.ubuntu.com/ubuntu bionic InRelease\n",
            "\r0% [1 InRelease 88.7 kB/88.7 kB 100%] [Connected to cloud.r-project.org (18.67.\r                                                                               \rGet:3 http://archive.ubuntu.com/ubuntu bionic-updates InRelease [88.7 kB]\n",
            "\r0% [Waiting for headers] [Connected to cloud.r-project.org (18.67.65.59)] [Wait\r0% [2 InRelease gpgv 242 kB] [Waiting for headers] [Connected to cloud.r-projec\r                                                                               \rGet:4 http://archive.ubuntu.com/ubuntu bionic-backports InRelease [74.6 kB]\n",
            "\r0% [2 InRelease gpgv 242 kB] [4 InRelease 35.9 kB/74.6 kB 48%] [Connected to cl\r0% [2 InRelease gpgv 242 kB] [Waiting for headers] [Waiting for headers] [Waiti\r                                                                               \rGet:5 https://cloud.r-project.org/bin/linux/ubuntu bionic-cran40/ InRelease [3,626 B]\n",
            "Hit:6 https://developer.download.nvidia.com/compute/cuda/repos/ubuntu1804/x86_64  InRelease\n",
            "Get:7 http://ppa.launchpad.net/c2d4u.team/c2d4u4.0+/ubuntu bionic InRelease [15.9 kB]\n",
            "Ign:8 https://developer.download.nvidia.com/compute/machine-learning/repos/ubuntu1804/x86_64  InRelease\n",
            "Hit:9 https://developer.download.nvidia.com/compute/machine-learning/repos/ubuntu1804/x86_64  Release\n",
            "Hit:10 http://ppa.launchpad.net/cran/libgit2/ubuntu bionic InRelease\n",
            "Hit:11 http://ppa.launchpad.net/deadsnakes/ppa/ubuntu bionic InRelease\n",
            "Hit:12 http://ppa.launchpad.net/graphics-drivers/ppa/ubuntu bionic InRelease\n",
            "Get:13 http://archive.ubuntu.com/ubuntu bionic-updates/universe amd64 Packages [2,298 kB]\n",
            "Get:14 http://archive.ubuntu.com/ubuntu bionic-updates/main amd64 Packages [3,302 kB]\n",
            "Get:15 http://security.ubuntu.com/ubuntu bionic-security/universe amd64 Packages [1,521 kB]\n",
            "Get:16 http://security.ubuntu.com/ubuntu bionic-security/main amd64 Packages [2,871 kB]\n",
            "Get:17 http://ppa.launchpad.net/c2d4u.team/c2d4u4.0+/ubuntu bionic/main Sources [2,075 kB]\n",
            "Get:19 http://ppa.launchpad.net/c2d4u.team/c2d4u4.0+/ubuntu bionic/main amd64 Packages [1,063 kB]\n",
            "Fetched 13.4 MB in 8s (1,732 kB/s)\n",
            "Reading package lists... Done\n"
          ]
        }
      ],
      "source": [
        "import os\n",
        "# Find the latest version of spark 3.0  from http://www.apache.org/dist/spark/ and enter as the spark version\n",
        "# For example:\n",
        "# spark_version = 'spark-3.0.3'\n",
        "spark_version = 'spark-3.0.3'\n",
        "os.environ['SPARK_VERSION']=spark_version\n",
        "\n",
        "# Install Spark and Java\n",
        "!apt-get update\n",
        "!apt-get install openjdk-11-jdk-headless -qq > /dev/null\n",
        "!wget -q http://www.apache.org/dist/spark/$SPARK_VERSION/$SPARK_VERSION-bin-hadoop2.7.tgz\n",
        "!tar xf $SPARK_VERSION-bin-hadoop2.7.tgz\n",
        "!pip install -q findspark\n",
        "\n",
        "# Set Environment Variables\n",
        "os.environ[\"JAVA_HOME\"] = \"/usr/lib/jvm/java-11-openjdk-amd64\"\n",
        "os.environ[\"SPARK_HOME\"] = f\"/content/{spark_version}-bin-hadoop2.7\"\n",
        "\n",
        "# Start a SparkSession\n",
        "import findspark\n",
        "findspark.init()"
      ]
    },
    {
      "cell_type": "code",
      "source": [
        "!wget https://jdbc.postgresql.org/download/postgresql-42.2.9.jar"
      ],
      "metadata": {
        "colab": {
          "base_uri": "https://localhost:8080/"
        },
        "id": "8DzyfFAMnFtl",
        "outputId": "e80d8872-6148-4c7f-bcc9-353a1439bd66"
      },
      "execution_count": 2,
      "outputs": [
        {
          "output_type": "stream",
          "name": "stdout",
          "text": [
            "--2022-07-10 19:36:47--  https://jdbc.postgresql.org/download/postgresql-42.2.9.jar\n",
            "Resolving jdbc.postgresql.org (jdbc.postgresql.org)... 72.32.157.228, 2001:4800:3e1:1::228\n",
            "Connecting to jdbc.postgresql.org (jdbc.postgresql.org)|72.32.157.228|:443... connected.\n",
            "HTTP request sent, awaiting response... 200 OK\n",
            "Length: 914037 (893K) [application/java-archive]\n",
            "Saving to: ‘postgresql-42.2.9.jar’\n",
            "\n",
            "postgresql-42.2.9.j 100%[===================>] 892.61K  5.02MB/s    in 0.2s    \n",
            "\n",
            "2022-07-10 19:36:48 (5.02 MB/s) - ‘postgresql-42.2.9.jar’ saved [914037/914037]\n",
            "\n"
          ]
        }
      ]
    },
    {
      "cell_type": "code",
      "source": [
        "from pyspark.sql import SparkSession\n",
        "spark = SparkSession.builder.appName(\"CloudETL\").config(\"spark.driver.extraClassPath\",\"/content/postgresql-42.2.9.jar\").getOrCreate()"
      ],
      "metadata": {
        "id": "DYN8_kGbnUcx"
      },
      "execution_count": 3,
      "outputs": []
    },
    {
      "cell_type": "code",
      "source": [
        "# read in user_data from S3 Bucket\n",
        "from pyspark import SparkFiles\n",
        "url = \"https://bc-dataviz-bucket11.s3.us-east-2.amazonaws.com/user_data.csv\"\n",
        "\n",
        "spark.sparkContext.addFile(url)\n",
        "\n",
        "user_data_df = spark.read.csv(SparkFiles.get(\"user_data.csv\"), sep=\",\", header=True, inferSchema=True)"
      ],
      "metadata": {
        "id": "8hY2-yHuoOWz"
      },
      "execution_count": 4,
      "outputs": []
    },
    {
      "cell_type": "code",
      "source": [
        "# show dataframe\n",
        "user_data_df.show()"
      ],
      "metadata": {
        "colab": {
          "base_uri": "https://localhost:8080/"
        },
        "id": "7EMRTp-coZxr",
        "outputId": "2604d8c0-daeb-4b01-e833-f03ebef6dbd8"
      },
      "execution_count": 5,
      "outputs": [
        {
          "output_type": "stream",
          "name": "stdout",
          "text": [
            "+---+----------+---------+-----------+--------------------+--------------------+------------+\n",
            "| id|first_name|last_name|active_user|      street_address|               state|    username|\n",
            "+---+----------+---------+-----------+--------------------+--------------------+------------+\n",
            "|  1|    Cletus|  Lithcow|      false| 78309 Riverside Way|            Virginia|   ibearham0|\n",
            "|  2|       Caz|   Felgat|      false| 83 Hazelcrest Place|             Alabama|    wwaller1|\n",
            "|  3|     Kerri|  Crowson|      false|      112 Eliot Pass|      North Carolina|   ichesnut2|\n",
            "|  4|   Freddie|    Caghy|      false|     15 Merchant Way|            New York|     tsnarr3|\n",
            "|  5|   Sadella|    Deuss|      false|    079 Acker Avenue|           Tennessee|   fwherrit4|\n",
            "|  6|    Fraser|  Korneev|       true|  76084 Novick Court|           Minnesota|  fstappard5|\n",
            "|  7|    Demott|   Rapson|       true|    86320 Dahle Park|District of Columbia|  lhambling6|\n",
            "|  8|    Robert|    Poile|      false|1540 Manitowish Hill|             Georgia|      drude7|\n",
            "|  9|    Nollie|     null|       true|       4 Katie Court|                Ohio|   bspawton8|\n",
            "| 10|   Merilyn| Frascone|      false|     387 Duke Street|                Ohio| rmackeller9|\n",
            "| 11|    Rickie| Tredwell|      false|  04 Monterey Center|            Missouri| cdennerleya|\n",
            "| 12|  Charmane| Connerry|      false|    0 Larry Junction|             Florida|    gsarfasb|\n",
            "| 13|     Nerti|   Kerins|      false|    68 Portage Trail|          California| mpichefordc|\n",
            "| 14|      Bart|     null|      false|    8 Homewood Court|District of Columbia|     bingryd|\n",
            "| 15|   Sadella|    Jaram|       true|7528 Waxwing Terrace|         Connecticut|   wheinerte|\n",
            "| 16|     Dicky|  Runnett|      false|  1793 Delaware Park|             Florida|    mdrewetf|\n",
            "| 17|    Hewitt|  Trammel|       true|    2455 Corry Alley|      North Carolina|droughsedgeg|\n",
            "| 18|  Gilligan|     Boys|      false|       2 Raven Court|             Florida|     abaakeh|\n",
            "| 19|       Ted|  Knowlys|       true|      31 South Drive|                Ohio|   ydudeniei|\n",
            "| 20|      Darb|   Carrel|      false|406 Park Meadow C...|           Minnesota|   ckermittj|\n",
            "+---+----------+---------+-----------+--------------------+--------------------+------------+\n",
            "only showing top 20 rows\n",
            "\n"
          ]
        }
      ]
    },
    {
      "cell_type": "code",
      "source": [
        "# read in user_payment from S3 Bucket\n",
        "from pyspark import SparkFiles\n",
        "url = \"https://bc-dataviz-bucket11.s3.us-east-2.amazonaws.com/user_payment.csv\"\n",
        "\n",
        "spark.sparkContext.addFile(url)\n",
        "\n",
        "user_payment_df = spark.read.csv(SparkFiles.get(\"user_payment.csv\"), sep=\",\", header=True, inferSchema=True)"
      ],
      "metadata": {
        "id": "isnzQmmSomN8"
      },
      "execution_count": 6,
      "outputs": []
    },
    {
      "cell_type": "markdown",
      "source": [
        "## TRANSFORM"
      ],
      "metadata": {
        "id": "R4zQx-liou7Q"
      }
    },
    {
      "cell_type": "code",
      "source": [
        "# read in user_payment from S3 Bucket\n",
        "from pyspark import SparkFiles\n",
        "url = \"https://bc-dataviz-bucket11.s3.us-east-2.amazonaws.com/user_payment.csv\"\n",
        "\n",
        "spark.sparkContext.addFile(url)\n",
        "\n",
        "user_payment_df = spark.read.csv(SparkFiles.get(\"user_payment.csv\"), sep=\",\", header=True, inferSchema=True)"
      ],
      "metadata": {
        "id": "Kszdle3eoqOH"
      },
      "execution_count": 7,
      "outputs": []
    },
    {
      "cell_type": "code",
      "source": [
        "# join the two dataframes\n",
        "joined_df = user_data_df.join(user_payment_df, on='username', how='inner')\n",
        "joined_df.show()"
      ],
      "metadata": {
        "colab": {
          "base_uri": "https://localhost:8080/"
        },
        "id": "5pk6SZ9hpD2l",
        "outputId": "8672dc36-3f76-40ad-c926-b64332cb0b84"
      },
      "execution_count": 9,
      "outputs": [
        {
          "output_type": "stream",
          "name": "stdout",
          "text": [
            "+------------+---+----------+---------+-----------+--------------------+--------------------+----------+--------------------+\n",
            "|    username| id|first_name|last_name|active_user|      street_address|               state|billing_id|        cc_encrypted|\n",
            "+------------+---+----------+---------+-----------+--------------------+--------------------+----------+--------------------+\n",
            "|   ibearham0|  1|    Cletus|  Lithcow|      false| 78309 Riverside Way|            Virginia|         1|a799fcafe47d7fb19...|\n",
            "|    wwaller1|  2|       Caz|   Felgat|      false| 83 Hazelcrest Place|             Alabama|         2|a799fcafe47d7fb19...|\n",
            "|   ichesnut2|  3|     Kerri|  Crowson|      false|      112 Eliot Pass|      North Carolina|         3|a799fcafe47d7fb19...|\n",
            "|     tsnarr3|  4|   Freddie|    Caghy|      false|     15 Merchant Way|            New York|         4|a799fcafe47d7fb19...|\n",
            "|   fwherrit4|  5|   Sadella|    Deuss|      false|    079 Acker Avenue|           Tennessee|         5|a799fcafe47d7fb19...|\n",
            "|  fstappard5|  6|    Fraser|  Korneev|       true|  76084 Novick Court|           Minnesota|         6|a799fcafe47d7fb19...|\n",
            "|  lhambling6|  7|    Demott|   Rapson|       true|    86320 Dahle Park|District of Columbia|         7|a799fcafe47d7fb19...|\n",
            "|      drude7|  8|    Robert|    Poile|      false|1540 Manitowish Hill|             Georgia|         8|a799fcafe47d7fb19...|\n",
            "|   bspawton8|  9|    Nollie|     null|       true|       4 Katie Court|                Ohio|         9|a799fcafe47d7fb19...|\n",
            "| rmackeller9| 10|   Merilyn| Frascone|      false|     387 Duke Street|                Ohio|        10|a799fcafe47d7fb19...|\n",
            "| cdennerleya| 11|    Rickie| Tredwell|      false|  04 Monterey Center|            Missouri|        11|a799fcafe47d7fb19...|\n",
            "|    gsarfasb| 12|  Charmane| Connerry|      false|    0 Larry Junction|             Florida|        12|a799fcafe47d7fb19...|\n",
            "| mpichefordc| 13|     Nerti|   Kerins|      false|    68 Portage Trail|          California|        13|a799fcafe47d7fb19...|\n",
            "|     bingryd| 14|      Bart|     null|      false|    8 Homewood Court|District of Columbia|        14|a799fcafe47d7fb19...|\n",
            "|   wheinerte| 15|   Sadella|    Jaram|       true|7528 Waxwing Terrace|         Connecticut|        15|a799fcafe47d7fb19...|\n",
            "|    mdrewetf| 16|     Dicky|  Runnett|      false|  1793 Delaware Park|             Florida|        16|a799fcafe47d7fb19...|\n",
            "|droughsedgeg| 17|    Hewitt|  Trammel|       true|    2455 Corry Alley|      North Carolina|        17|a799fcafe47d7fb19...|\n",
            "|     abaakeh| 18|  Gilligan|     Boys|      false|       2 Raven Court|             Florida|        18|a799fcafe47d7fb19...|\n",
            "|   ydudeniei| 19|       Ted|  Knowlys|       true|      31 South Drive|                Ohio|        19|a799fcafe47d7fb19...|\n",
            "|   ckermittj| 20|      Darb|   Carrel|      false|406 Park Meadow C...|           Minnesota|        20|a799fcafe47d7fb19...|\n",
            "+------------+---+----------+---------+-----------+--------------------+--------------------+----------+--------------------+\n",
            "only showing top 20 rows\n",
            "\n"
          ]
        }
      ]
    },
    {
      "cell_type": "code",
      "source": [
        "# drop any rows with null values\n",
        "dropna_df = joined_df.dropDuplicates()\n",
        "dropna_df.show()"
      ],
      "metadata": {
        "colab": {
          "base_uri": "https://localhost:8080/"
        },
        "id": "vON1fvzVoy--",
        "outputId": "4accf5ef-d5a0-4195-c2a8-f073371ba0bf"
      },
      "execution_count": 10,
      "outputs": [
        {
          "output_type": "stream",
          "name": "stdout",
          "text": [
            "+-------------+---+----------+------------+-----------+--------------------+-------------+----------+--------------------+\n",
            "|     username| id|first_name|   last_name|active_user|      street_address|        state|billing_id|        cc_encrypted|\n",
            "+-------------+---+----------+------------+-----------+--------------------+-------------+----------+--------------------+\n",
            "|    sdobing1y| 71|   Richart|     Doodney|       true|  074 Cordelia Plaza|      Indiana|        71|a799fcafe47d7fb19...|\n",
            "|       cord20| 73|  Kathleen|       Kohen|       true|98944 Golf View P...|    Minnesota|        73|a799fcafe47d7fb19...|\n",
            "|     ituvey3i|127|       Lem|    Eastwood|       true|        4 5th Avenue|        Texas|       127|a799fcafe47d7fb19...|\n",
            "|     ksimane6|511|   Lurleen|  Beardsdale|       true|     5 Mosinee Point|       Kansas|       511|a799fcafe47d7fb19...|\n",
            "| fgerritzenew|537|     Arlen|       Blose|       true|736 Oak Valley Place|     Michigan|       537|a799fcafe47d7fb19...|\n",
            "|  gmccahilljq|711|      Tuck|     Awcoate|      false|295 Charing Cross...|     Michigan|       711|a799fcafe47d7fb19...|\n",
            "|    ddraudeor|892|     Kathy|        null|       true| 9 Summerview Center|    Wisconsin|       892|a799fcafe47d7fb19...|\n",
            "|     rarrow1o| 61|      Lexy|    Kolushev|      false|   55 Starling Plaza|     New York|        61|a799fcafe47d7fb19...|\n",
            "|     ghearl23| 76|      Roby|      Pichan|       true|162 Schmedeman Trail|      Florida|        76|a799fcafe47d7fb19...|\n",
            "|  amillwalla5|366|      Cort|        null|       true|     3 Merrick Court|Massachusetts|       366|a799fcafe47d7fb19...|\n",
            "|  pborleacec0|433|    Zollie| Sleightholm|       true|    21 Karstens Lane| Rhode Island|       433|a799fcafe47d7fb19...|\n",
            "|   alowcockgp|602|    Rossie|     Denning|      false|   49788 Warbler Way|       Oregon|       602|a799fcafe47d7fb19...|\n",
            "|   lbeurichm4|797|     Marin|        null|      false| 51660 Comanche Road|         Ohio|       797|a799fcafe47d7fb19...|\n",
            "|   ctamletti3|652|   Minnnie|    Carletti|      false|     4 Hooker Avenue|    Tennessee|       652|a799fcafe47d7fb19...|\n",
            "|   bchorley3k|129|    Morley|   Restorick|      false|   30730 Reinke Hill|       Kansas|       129|a799fcafe47d7fb19...|\n",
            "|     avobes7v|284|      Milt|   Giacomini|       true|       262 Sage Hill| South Dakota|       284|a799fcafe47d7fb19...|\n",
            "|     gatyeohz|648|      Zeke|      Capron|       true| 30287 Warbler Drive|     Missouri|       648|a799fcafe47d7fb19...|\n",
            "| hwickersoniv|680|     Peder|Thornthwaite|       true|     9115 Susan Park|  Connecticut|       680|a799fcafe47d7fb19...|\n",
            "|dpierrepontiw|681|    Elisha|     Lanston|       true| 7 Victoria Crossing|   California|       681|a799fcafe47d7fb19...|\n",
            "|   bmirando6l|238|  Consalve|      Givens|       true|    5643 Debra Place|         Utah|       238|a799fcafe47d7fb19...|\n",
            "+-------------+---+----------+------------+-----------+--------------------+-------------+----------+--------------------+\n",
            "only showing top 20 rows\n",
            "\n"
          ]
        }
      ]
    },
    {
      "cell_type": "code",
      "source": [
        "# load in a sql function to use columns\n",
        "from pyspark.sql.functions import col\n",
        "#filter for only columns with active users\n",
        "cleaned_df = dropna_df.filter(col(\"active_user\") == True)\n",
        "cleaned_df.show()"
      ],
      "metadata": {
        "colab": {
          "base_uri": "https://localhost:8080/"
        },
        "id": "jJuBHIQ6o8WV",
        "outputId": "31ad33ba-13aa-4a49-b8ae-90f49fd0986d"
      },
      "execution_count": 11,
      "outputs": [
        {
          "output_type": "stream",
          "name": "stdout",
          "text": [
            "+-------------+---+----------+------------+-----------+--------------------+-------------+----------+--------------------+\n",
            "|     username| id|first_name|   last_name|active_user|      street_address|        state|billing_id|        cc_encrypted|\n",
            "+-------------+---+----------+------------+-----------+--------------------+-------------+----------+--------------------+\n",
            "|    sdobing1y| 71|   Richart|     Doodney|       true|  074 Cordelia Plaza|      Indiana|        71|a799fcafe47d7fb19...|\n",
            "|       cord20| 73|  Kathleen|       Kohen|       true|98944 Golf View P...|    Minnesota|        73|a799fcafe47d7fb19...|\n",
            "|     ituvey3i|127|       Lem|    Eastwood|       true|        4 5th Avenue|        Texas|       127|a799fcafe47d7fb19...|\n",
            "|     ksimane6|511|   Lurleen|  Beardsdale|       true|     5 Mosinee Point|       Kansas|       511|a799fcafe47d7fb19...|\n",
            "| fgerritzenew|537|     Arlen|       Blose|       true|736 Oak Valley Place|     Michigan|       537|a799fcafe47d7fb19...|\n",
            "|    ddraudeor|892|     Kathy|        null|       true| 9 Summerview Center|    Wisconsin|       892|a799fcafe47d7fb19...|\n",
            "|     ghearl23| 76|      Roby|      Pichan|       true|162 Schmedeman Trail|      Florida|        76|a799fcafe47d7fb19...|\n",
            "|  amillwalla5|366|      Cort|        null|       true|     3 Merrick Court|Massachusetts|       366|a799fcafe47d7fb19...|\n",
            "|  pborleacec0|433|    Zollie| Sleightholm|       true|    21 Karstens Lane| Rhode Island|       433|a799fcafe47d7fb19...|\n",
            "|     avobes7v|284|      Milt|   Giacomini|       true|       262 Sage Hill| South Dakota|       284|a799fcafe47d7fb19...|\n",
            "|     gatyeohz|648|      Zeke|      Capron|       true| 30287 Warbler Drive|     Missouri|       648|a799fcafe47d7fb19...|\n",
            "| hwickersoniv|680|     Peder|Thornthwaite|       true|     9115 Susan Park|  Connecticut|       680|a799fcafe47d7fb19...|\n",
            "|dpierrepontiw|681|    Elisha|     Lanston|       true| 7 Victoria Crossing|   California|       681|a799fcafe47d7fb19...|\n",
            "|   bmirando6l|238|  Consalve|      Givens|       true|    5643 Debra Place|         Utah|       238|a799fcafe47d7fb19...|\n",
            "|  lcafferty5j|200|   Yanaton|        null|       true|24462 Killdeer Point|      Florida|       200|a799fcafe47d7fb19...|\n",
            "|    hsuttle9q|351|     Rorie|        null|       true|    6 Milwaukee Pass|      Alabama|       351|a799fcafe47d7fb19...|\n",
            "|  avernallsaq|387|   Kandace|        null|       true|07432 Doe Crossin...|West Virginia|       387|a799fcafe47d7fb19...|\n",
            "|  ibrunstanck|453|    Hailee|     Shackle|       true|       54 Brown Lane|        Texas|       453|a799fcafe47d7fb19...|\n",
            "|     wfloydjh|702|     Brana|Degli Antoni|       true|    0006 Hermina Way|      Florida|       702|a799fcafe47d7fb19...|\n",
            "|      cdornk2|723|     Adele|        Clem|       true|   702 Kipling Drive| Pennsylvania|       723|a799fcafe47d7fb19...|\n",
            "+-------------+---+----------+------------+-----------+--------------------+-------------+----------+--------------------+\n",
            "only showing top 20 rows\n",
            "\n"
          ]
        }
      ]
    },
    {
      "cell_type": "code",
      "source": [
        "# create user dataframe to match active_user table\n",
        "clean_user_df = cleaned_df.select(['id', 'first_name', 'last_name', 'username'])\n",
        "clean_user_df.show()"
      ],
      "metadata": {
        "colab": {
          "base_uri": "https://localhost:8080/"
        },
        "id": "BVdHuY58pOjN",
        "outputId": "b19ed63e-5c1a-421d-89fb-281aefd0d05c"
      },
      "execution_count": 12,
      "outputs": [
        {
          "output_type": "stream",
          "name": "stdout",
          "text": [
            "+---+----------+------------+-------------+\n",
            "| id|first_name|   last_name|     username|\n",
            "+---+----------+------------+-------------+\n",
            "| 71|   Richart|     Doodney|    sdobing1y|\n",
            "| 73|  Kathleen|       Kohen|       cord20|\n",
            "|127|       Lem|    Eastwood|     ituvey3i|\n",
            "|511|   Lurleen|  Beardsdale|     ksimane6|\n",
            "|537|     Arlen|       Blose| fgerritzenew|\n",
            "|892|     Kathy|        null|    ddraudeor|\n",
            "| 76|      Roby|      Pichan|     ghearl23|\n",
            "|366|      Cort|        null|  amillwalla5|\n",
            "|433|    Zollie| Sleightholm|  pborleacec0|\n",
            "|284|      Milt|   Giacomini|     avobes7v|\n",
            "|648|      Zeke|      Capron|     gatyeohz|\n",
            "|680|     Peder|Thornthwaite| hwickersoniv|\n",
            "|681|    Elisha|     Lanston|dpierrepontiw|\n",
            "|238|  Consalve|      Givens|   bmirando6l|\n",
            "|200|   Yanaton|        null|  lcafferty5j|\n",
            "|351|     Rorie|        null|    hsuttle9q|\n",
            "|387|   Kandace|        null|  avernallsaq|\n",
            "|453|    Hailee|     Shackle|  ibrunstanck|\n",
            "|702|     Brana|Degli Antoni|     wfloydjh|\n",
            "|723|     Adele|        Clem|      cdornk2|\n",
            "+---+----------+------------+-------------+\n",
            "only showing top 20 rows\n",
            "\n"
          ]
        }
      ]
    },
    {
      "cell_type": "code",
      "source": [
        "# create user dataframe to match billing_info\n",
        "clean_billing_df = cleaned_df.select(['billing_id', 'street_address', 'state', 'username'])\n",
        "clean_billing_df.show()"
      ],
      "metadata": {
        "colab": {
          "base_uri": "https://localhost:8080/"
        },
        "id": "yEQdXOokpTfC",
        "outputId": "89568f89-7f82-4eb6-dce2-3d0c252fb9db"
      },
      "execution_count": 13,
      "outputs": [
        {
          "output_type": "stream",
          "name": "stdout",
          "text": [
            "+----------+--------------------+-------------+-------------+\n",
            "|billing_id|      street_address|        state|     username|\n",
            "+----------+--------------------+-------------+-------------+\n",
            "|        71|  074 Cordelia Plaza|      Indiana|    sdobing1y|\n",
            "|        73|98944 Golf View P...|    Minnesota|       cord20|\n",
            "|       127|        4 5th Avenue|        Texas|     ituvey3i|\n",
            "|       511|     5 Mosinee Point|       Kansas|     ksimane6|\n",
            "|       537|736 Oak Valley Place|     Michigan| fgerritzenew|\n",
            "|       892| 9 Summerview Center|    Wisconsin|    ddraudeor|\n",
            "|        76|162 Schmedeman Trail|      Florida|     ghearl23|\n",
            "|       366|     3 Merrick Court|Massachusetts|  amillwalla5|\n",
            "|       433|    21 Karstens Lane| Rhode Island|  pborleacec0|\n",
            "|       284|       262 Sage Hill| South Dakota|     avobes7v|\n",
            "|       648| 30287 Warbler Drive|     Missouri|     gatyeohz|\n",
            "|       680|     9115 Susan Park|  Connecticut| hwickersoniv|\n",
            "|       681| 7 Victoria Crossing|   California|dpierrepontiw|\n",
            "|       238|    5643 Debra Place|         Utah|   bmirando6l|\n",
            "|       200|24462 Killdeer Point|      Florida|  lcafferty5j|\n",
            "|       351|    6 Milwaukee Pass|      Alabama|    hsuttle9q|\n",
            "|       387|07432 Doe Crossin...|West Virginia|  avernallsaq|\n",
            "|       453|       54 Brown Lane|        Texas|  ibrunstanck|\n",
            "|       702|    0006 Hermina Way|      Florida|     wfloydjh|\n",
            "|       723|   702 Kipling Drive| Pennsylvania|      cdornk2|\n",
            "+----------+--------------------+-------------+-------------+\n",
            "only showing top 20 rows\n",
            "\n"
          ]
        }
      ]
    },
    {
      "cell_type": "code",
      "source": [
        "# create user dataframe to match payment_info table\n",
        "clean_payment_df = cleaned_df.select(['billing_id', 'cc_encrypted'])\n",
        "clean_payment_df.show()"
      ],
      "metadata": {
        "colab": {
          "base_uri": "https://localhost:8080/"
        },
        "id": "aav3dnUJpX8R",
        "outputId": "6b592411-6aa1-4ea8-df7b-068638e13883"
      },
      "execution_count": 14,
      "outputs": [
        {
          "output_type": "stream",
          "name": "stdout",
          "text": [
            "+----------+--------------------+\n",
            "|billing_id|        cc_encrypted|\n",
            "+----------+--------------------+\n",
            "|        71|a799fcafe47d7fb19...|\n",
            "|        73|a799fcafe47d7fb19...|\n",
            "|       127|a799fcafe47d7fb19...|\n",
            "|       511|a799fcafe47d7fb19...|\n",
            "|       537|a799fcafe47d7fb19...|\n",
            "|       892|a799fcafe47d7fb19...|\n",
            "|        76|a799fcafe47d7fb19...|\n",
            "|       366|a799fcafe47d7fb19...|\n",
            "|       433|a799fcafe47d7fb19...|\n",
            "|       284|a799fcafe47d7fb19...|\n",
            "|       648|a799fcafe47d7fb19...|\n",
            "|       680|a799fcafe47d7fb19...|\n",
            "|       681|a799fcafe47d7fb19...|\n",
            "|       238|a799fcafe47d7fb19...|\n",
            "|       200|a799fcafe47d7fb19...|\n",
            "|       351|a799fcafe47d7fb19...|\n",
            "|       387|a799fcafe47d7fb19...|\n",
            "|       453|a799fcafe47d7fb19...|\n",
            "|       702|a799fcafe47d7fb19...|\n",
            "|       723|a799fcafe47d7fb19...|\n",
            "+----------+--------------------+\n",
            "only showing top 20 rows\n",
            "\n"
          ]
        }
      ]
    },
    {
      "cell_type": "markdown",
      "source": [
        "## LOAD"
      ],
      "metadata": {
        "id": "6KU7IBIYppAD"
      }
    },
    {
      "cell_type": "code",
      "source": [
        "# store environment variables\n",
        "from getpass import getpass\n",
        "password = getpass(\"Enter Password: \")"
      ],
      "metadata": {
        "colab": {
          "base_uri": "https://localhost:8080/"
        },
        "id": "jqbE6cjVpl6s",
        "outputId": "7c59583a-16a5-45bb-9f8f-cbb7c0ba7bf5"
      },
      "execution_count": 21,
      "outputs": [
        {
          "name": "stdout",
          "output_type": "stream",
          "text": [
            "Enter Password: ··········\n"
          ]
        }
      ]
    },
    {
      "cell_type": "code",
      "source": [
        "# Configure settings for RDS\n",
        "mode = \"append\"\n",
        "jdbc_url=\"jdbc:postgresql://dataviz11.chlimk0s0kqy.us-east-2.rds.amazonaws.com:5432/data_class_db\"\n",
        "config = {\"user\":\"postgres\", \n",
        "          \"password\": password, \n",
        "          \"driver\":\"org.postgresql.Driver\"}"
      ],
      "metadata": {
        "id": "xraDst9qq7X3"
      },
      "execution_count": 22,
      "outputs": []
    },
    {
      "cell_type": "code",
      "source": [
        "# Write DataFrame to active_user table in RDS\n",
        "clean_user_df.write.jdbc(url=jdbc_url, table='active_user', mode=mode, properties=config)"
      ],
      "metadata": {
        "id": "RREl7khfrmlP"
      },
      "execution_count": 23,
      "outputs": []
    },
    {
      "cell_type": "code",
      "source": [
        "# Write dataframe to billing_info table in RDS\n",
        "clean_billing_df.write.jdbc(url=jdbc_url, table='billing_info', mode=mode, properties=config)"
      ],
      "metadata": {
        "id": "sbl6w7EWr3Yv"
      },
      "execution_count": 24,
      "outputs": []
    },
    {
      "cell_type": "code",
      "source": [
        "# Write dataframe to payment_info table in RDS\n",
        "clean_payment_df.write.jdbc(url=jdbc_url, table='payment_info', mode=mode, properties=config)"
      ],
      "metadata": {
        "id": "Vet9-nsjtyub"
      },
      "execution_count": 25,
      "outputs": []
    },
    {
      "cell_type": "code",
      "source": [
        ""
      ],
      "metadata": {
        "id": "UEkgxQxrt6Mn"
      },
      "execution_count": null,
      "outputs": []
    }
  ]
}