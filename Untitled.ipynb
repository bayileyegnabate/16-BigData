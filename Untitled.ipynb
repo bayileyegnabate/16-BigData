{
 "cells": [
  {
   "cell_type": "markdown",
   "id": "c8297739",
   "metadata": {},
   "source": [
    "# Amazon Vine Analysis\n",
    "\n",
    "## Overview of the analysis: \n",
    "The purpose of this project is to analyze Amazone written reviews by members of the Vine program, and determine if there is any bias in product reviews depending on whether the reviewers were paid or not.\n",
    "\n",
    "## Results: \n",
    "- **After filtering** the data for rows where the **total_votes** count is *greater or equal 20*:\n",
    "    - There were a total of 27389 reviews\n",
    "    - 12371 of the total reviews were 5-star reviews\n",
    "    - 202 of the five-star reviews were vine (paid) reviews\n",
    "    - 12033 of the five-star reviews were non-vine (unpaid) reviews\n",
    "    - 27389 12371 202 0.016328510225527445 12033 0.9726780373454046\n",
    "    \n",
    "| total      | five-stars | vine  | non-vine |\n",
    "|------------|------------|-------| ---------|\n",
    "| 27389      | 12371      | 202   | 12033    |\n",
    "\n",
    "## Summary: \n",
    "The number of 5-star reviews from the vine program constitutes about 1.6% of the total five-star reviews. Based on this result I conclude that the paid vine progam has *no postive bias* in product reviews."
   ]
  },
  {
   "cell_type": "code",
   "execution_count": null,
   "id": "87b15b3d",
   "metadata": {},
   "outputs": [],
   "source": []
  }
 ],
 "metadata": {
  "kernelspec": {
   "display_name": "mlenv",
   "language": "python",
   "name": "mlenv"
  },
  "language_info": {
   "codemirror_mode": {
    "name": "ipython",
    "version": 3
   },
   "file_extension": ".py",
   "mimetype": "text/x-python",
   "name": "python",
   "nbconvert_exporter": "python",
   "pygments_lexer": "ipython3",
   "version": "3.9.7"
  }
 },
 "nbformat": 4,
 "nbformat_minor": 5
}
